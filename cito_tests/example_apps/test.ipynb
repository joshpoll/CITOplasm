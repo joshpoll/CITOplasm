{
 "cells": [
  {
   "cell_type": "code",
   "execution_count": 99,
   "metadata": {},
   "outputs": [
    {
     "data": {
      "text/plain": [
       "<module 'travel_bots' from '/Users/jmp/factored_cognition/tests/example_apps/travel_bots.py'>"
      ]
     },
     "execution_count": 99,
     "metadata": {},
     "output_type": "execute_result"
    }
   ],
   "source": [
    "import requests\n",
    "import pprint\n",
    "import mwparserfromhell\n",
    "\n",
    "import sys\n",
    "import importlib\n",
    "from travel import *\n",
    "from travel_bots import *\n",
    "importlib.reload(sys.modules['travel'])\n",
    "importlib.reload(sys.modules['travel_bots'])"
   ]
  },
  {
   "cell_type": "code",
   "execution_count": 92,
   "metadata": {},
   "outputs": [
    {
     "name": "stdout",
     "output_type": "stream",
     "text": [
      "[('Downtown', 'Seattle/Downtown'), ('Pioneer Square and International District', 'Seattle/Pioneer Square-International District'), ('Queen Anne and South Lake Union', 'Seattle/Queen Anne-South Lake Union'), ('Capitol Hill and Central District', 'Seattle/Capitol Hill-Central District')]\n",
      "[('Ballard', 'Seattle/Ballard'), ('Fremont and Wallingford', 'Seattle/Fremont'), ('University District', 'Seattle/University District'), ('North Seattle', 'Seattle/North')]\n",
      "[('SoDo and Georgetown', 'Seattle/Sodo-Georgetown'), ('South Seattle', 'Seattle/South'), ('West Seattle', 'Seattle/West')]\n"
     ]
    }
   ],
   "source": [
    "sections = query_wiki_voyage(\"Seattle\")\n",
    "\n",
    "parsed_sections, regions = parse_sections(sections)\n",
    "\n",
    "parsed_sections = parsed_sections['']['children']\n",
    "# pprint.pprint(parsed_sections['Districts'])"
   ]
  },
  {
   "cell_type": "code",
   "execution_count": 81,
   "metadata": {},
   "outputs": [
    {
     "name": "stdout",
     "output_type": "stream",
     "text": [
      "[Region(name='Downtown', description=\"Seattle's commercial and financial core, home to the waterfront, the Pike Place Market, and some of the most stunning architecture in the city. The northern area of Belltown has a collection of many of the city's best, if not most expensive, restaurants and bars.\", wikilink='Seattle/Downtown'), Region(name='Pioneer Square and International District', description='The oldest neighborhoods of Seattle, containing classic buildings, art galleries, innumerable restaurants, and the Chinatown.', wikilink='Seattle/Pioneer Square-International District'), Region(name='Queen Anne and South Lake Union', description=\"Perched on the hills northwest of Downtown, here you will find wealthy neighborhoods peppered with panoramic parks. On the area's south is the newly developed commercial center of South Lake Union (home of the rapidly growing Amazon headquarters), and the '''Seattle Center''' with its Space Needle.\", wikilink='Seattle/Queen Anne-South Lake Union'), Region(name='Capitol Hill and Central District', description='The nightlife and retail core of Pike-Pine at the west meets the quiet, diverse residences of Madison Park at the east. This area is also the [[LGBT travel|gay]] capital of Seattle.', wikilink='Seattle/Capitol Hill-Central District'), Region(name='Ballard', description='A mostly residential area, home to the canal locks. The area is known for its Scandinavian heritage, chic boutiques, and the thriving historic Downtown Ballard.', wikilink='Seattle/Ballard'), Region(name='Fremont and Wallingford', description='The self-proclaimed \"center of the universe\", a bohemian (though rapidly gentrifying) area noted for its public art.', wikilink='Seattle/Fremont'), Region(name='University District', description='Home to the sprawling University of Washington campus, numerous inexpensive eateries, and plenty of entertainment.', wikilink='Seattle/University District'), Region(name='North Seattle', description=\"The city's mostly residential and gently gentrifying northernmost tier, bordering [[Shoreline]]. It contains many of the largest and prettiest parks of Seattle. Noticeable commercial activity is present in the Northgate, Aurora, and Lake City neighborhoods.\", wikilink='Seattle/North'), Region(name='SoDo and Georgetown', description='Continuing south of Downtown past the sports stadiums, this industrial district contains the well-hidden but thriving Georgetown neighborhood.', wikilink='Seattle/Sodo-Georgetown'), Region(name='South Seattle', description='A mostly residential area bordering Lake Washington, served by light rail and home to Jefferson and Seward Parks. The Columbia City neighborhood is probably its liveliest.', wikilink='Seattle/South'), Region(name='West Seattle', description='A scenic residential area with great parks, ample beaches and wonderful vistas over the harbor and Downtown.', wikilink='Seattle/West')]\n"
     ]
    }
   ],
   "source": [
    "print(regions)"
   ]
  },
  {
   "cell_type": "code",
   "execution_count": 107,
   "metadata": {},
   "outputs": [
    {
     "data": {
      "text/plain": [
       "dict_keys(['Downtown and surrounding neighborhoods', 'North of the Lake Washington Ship Canal', 'South of Downtown and I-90'])"
      ]
     },
     "execution_count": 107,
     "metadata": {},
     "output_type": "execute_result"
    }
   ],
   "source": [
    "parsed_sections['Districts']['children'].keys()"
   ]
  },
  {
   "cell_type": "code",
   "execution_count": 82,
   "metadata": {},
   "outputs": [
    {
     "name": "stdout",
     "output_type": "stream",
     "text": [
      "Region(name='South Seattle', description='A mostly residential area bordering Lake Washington, served by light rail and home to Jefferson and Seward Parks. The Columbia City neighborhood is probably its liveliest.', wikilink='Seattle/South')\n"
     ]
    }
   ],
   "source": [
    "# print a random region\n",
    "import random\n",
    "print(random.choice(regions))"
   ]
  },
  {
   "cell_type": "code",
   "execution_count": 83,
   "metadata": {},
   "outputs": [
    {
     "name": "stdout",
     "output_type": "stream",
     "text": [
      "\n",
      "# History\n",
      "The first humans are believed to have entered the region nearly 4,000 years ago. Englishman George Vancouver mapped the area in the 1790s, but the first white settlers didn't arrive until 1851. Luther Collins led a party of settlers to the mouth of the Duwamish River (in what is today southern Seattle), followed shortly by a party led by the more notable Arthur A. Denny of Chicago, who settled at Alki Point in West Seattle. Confrontations between the original settlers initially flared, only to die out as the groups settled together on the Elliott Bay. The area was then named Seattle by David Maynard, in honor of Chief Si'ahl of the Duwamish & Suquamish tribes, and later officially established as a city in 1869.\n",
      "\n",
      "By the 1880s, development of a modern city came to life with the erection of buildings, a streetcar system, and a lumber mill at the end of a timber skid row (what is now Yesler Way), only to be destroyed by fire in 1889. The city came alive again in 1903 with the Klondike Gold Rush, when Seattle served as the departure city for miners bound for Alaska and the Yukon. During this boom time, hills were flattened for development and the Lake Washington Ship Canal was created.\n",
      "\n",
      "The city's economy slowed down again during the Great Depression and World War II, but experienced a renewed fervor with the establishment of the aircraft company Boeing and the occurrence of the 1962 World's Fair, which opened the gates for modernization of the city. Heavy dependence on Boeing took an economic toll on the city during the 1970s oil crisis, but Microsoft's move from Albuquerque to the Seattle area further promoted the economic vitality of Seattle. Soon, Amazon, Nintendo of America, T-Mobile, Starbucks, and numerous biotech companies also established their headquarters there, bringing an influx of population growth and money into the area. Today, the Seattle metropolitan area's wealth and its four million inhabitants (more than half of the population of Washington State) make it the economic powerhouse of the Pacific Northwest and a city of huge importance for the entire United States.\n",
      "\n",
      "# Culture\n",
      "Multiculturalism is seen as a virtue. White people make up about 70% of the population, while more than a tenth of Seattlelites are of Asian descent. English is spoken virtually everywhere in the city but there are ethnic areas in South Seattle where Vietnamese and Tagalog are also commonly spoken, as well as Chinese and Japanese in the International District. The ZIP code 98118 in South Seattle designates one of the most ethnically diverse areas in the entire United States!\n",
      "\n",
      "Being a very politically left-wing part of the country, Seattle has one of the most sprawling LGBT communities in the US, second only to San Francisco. While the vast majority of Seattle businesses are LGBT-friendly, the Capitol Hill area, east of downtown, is the main place for LGBT-focused business and bars, as well as a resource center. A large PrideFest takes place annually at the Seattle Center, along with preceding events such as a Pride Parade. The city is also home to a number of other annual Pride events, including the Seattle Dyke March and Capitol Hill Pride.\n",
      "\n",
      "Locals have long talked of the Seattle Freeze, referring to the cold politeness of residents. The theory is that while they are very polite and warm on first interaction, they are actually reserved, and interactions rarely lead to real acts of friendship (an invitation to dinner, personal conversations, etc.). The origin is obscure, but it is mostly assumed to be from Scandinavian immigrants that brought their home country's customs here, including this equivalent to introversion. Expect to have to make all the \"first moves\" to meet people here.\n",
      "\n",
      "Residents' shyness also extends to anger and annoyance. Locals often make fun of themselves for their passive aggressive culture, where even in the most upsetting circumstances they will retain their polite nature.\n",
      "\n",
      "# Climate\n",
      "A common stereotype of Seattle is that the sky is always grey, rainy, and depressing. But it may surprise you that rain is virtually absent in late spring through early fall, making Seattle an excellent place to spend summer. It's warm and comfortable, with little to moderate humidity and temperatures averaging in the upper 70s (about 25°C), though sometimes rising to the 80s and even 90s (above 30°C). Furthermore, because of Seattle's high latitude, the sky is bright from around 4:30AM to 10PM during the summer months, giving you ample daylight for outdoor activities.\n",
      "\n",
      "During all other seasons, the sky above Seattle is often murky, grim, rainy and breezy, with occasional days of sun. It can be dry but cold, or mild but rainy. Even in the case of dry weather, the morning typically starts with fog that usually vanishes by midday. Despite its location as the northernmost big city in the U.S., winters in Seattle are not as harsh as those east of the Cascades. Marine air from the Puget Sound and the Pacific Ocean moderate Seattle's climate, so that most precipitation falls as rain and little as snow. However, on occasion a snowstorm will hit, though it's a fairly rare event. The area consists of complex topographical features; thus it can be raining in the city itself but sunny five miles north or snowing in heaps fifteen miles inland to the Cascade foothills, often puzzling weather forecasters.\n",
      "\n",
      "Despite the Rain City reputation, the main challenge of Seattle's weather is more the overcast skies than the rain, and in fact Seattle has less annual rainfall than most cities east of the Rocky Mountains. Seattle's rain usually comes in a drizzle that lingers for days, which only occasionally strengthens to a full-blown torrent that rarely lasts long. Many residents call this period of overcast, the season of grey as it lasts from late October to early March every year.\n",
      "\n",
      "# Read\n",
      "E.L. James' phenomenally popular erotic novel Fifty Shades of Grey, as well as its sequels (Fifty Shades Darker and Fifty Shades Freed), are set in the Seattle area.\n",
      "The Twilight saga is set in the Forks area of the Olympic Peninsula, but the third installment, Eclipse, is set primarily in a Seattle plagued by murderous vampires.\n",
      "The Art of Racing in the Rain, by Garth Stein, is a New York Times bestseller about a race car driver told from the perspective of his dog, Enzo.\n",
      "\n",
      "# Watch\n",
      "As might be expected, nearly all movies and TV shows set in Seattle feature at least an establishing shot of the Space Needle.\n",
      " Many people will still remember the sitcom Frasier, which ran for 11 seasons until 2004. The Cheers spin-off followed the life of the Crane family: Frasier Crane, a radio psychiatrist, his brother Niles, his father Martin, and his assistant, Daphne Moon. Although most of the show was actually filmed in studios in Los Angeles, the 100th episode was shot for real on the streets of Seattle, the monorail, and the Seattle Center.\n",
      " The medical drama Grey's Anatomy is set in Seattle to distinguish it from its counterpart, Chicago's ER. Fisher Plaza, home to the ABC-affiliated KOMO radio and television station and right across the street from the Space Needle, serves as the exterior of the fictional Grey-Sloan Memorial Hospital.\n",
      " It Happened at the World's Fair (Norman Taurog, 1963). Elvis Presley stars as Mike, a cropduster pilot who hitchhikes with his friend Danny (Gary Lockwood) into Seattle during the 1962 World's Fair, where he meets his love interest, played by Joan O'Brien.\n",
      " The Parallax View (Alan J. Pakula, 1974). Released at the height of the political paranoia of the 70s, this film follows an investigative reporter (played by Warren Beatty) who discovers a secretive corporation that recruits political assassins. There's a lot of excellent Seattle imagery in this film, and the movie is well-remembered for its opening assassination scene that takes place atop the Space Needle.\n",
      " Singles (Cameron Crowe, 1992). A romantic comedy about two young couples experiencing rocky love while living in a Seattle apartment block. The film was particularly noted for its grunge soundtrack, coming on the heels of Seattle's grunge music boom. The central coffee shop in the film is at the now-closed OK Hotel in Pioneer Square, and the apartment used in the movie is at the northwest corner of E. Thomas St & 19th Ave E.\n",
      " Sleepless In Seattle (Nora Ephron, 1993). Tom Hanks plays Sam Baldwin, a widower father searching for comfort in Seattle after the loss of his wife. After his young son, Jonah, calls a radio station for help, a woman (Meg Ryan) develops an attraction to Sam. Sam Baldwin's houseboat is set on Lake Union, which is worth a visit for fans of the movie.\n",
      "\n",
      "# Music\n",
      "Although Seattle may be more well-known for grunge, it has had a long, diverse and tolerant music history from early on, including a politically radical American folk scene in the 1920s to a thriving post-war jazz scene that boomed in many clubs throughout the area.\n",
      "\n",
      "Grunge was heavily influenced by the counterculture music scene that dominated Seattle from the mid-1970s through the 1980s, with such noted acts as a gay glam theater group called Ze Whiz Kids and bands like The Telepaths, The Beakers, and Red Dress (the last of which is still active as of 2023). Seattle also has another musical claim to fame in native son Jimi Hendrix, although he found his success in England; nevertheless, this hasn't stopped Seattle from erecting a statue of him in Capitol Hill and devoting an entire section to Hendrix at the Museum of Pop Culture in the Seattle Center.\n",
      "\n",
      "Grunge didn't really emerge until the 1980s and was a combination of punk and metal promoted by such notable Seattle-based groups as Nirvana, Pearl Jam, and Soundgarden. The genre emerged and slowly grew through the mid-1980s before exploding to international fame in 1991 with the release of Nirvana's breakthrough album Nevermind, but its prominence came to an end after singer Kurt Cobain's shocking suicide in 1994.\n",
      "\n",
      "Local favorite radio station KEXP is a great source for alternative and experimental music and has helped launch the careers of not only grunge bands like Nirvana but local hip hop favorites such as Macklemore, Ryan Lewis, and the Blue Scholars, as well as many other nationally known alternative bands such as Sunny Day Real Estate, Modest Mouse, The Postal Service, Death Cab for Cutie, Band of Horses, The Head and the Heart and Fleet Foxes.\n",
      "\n",
      "thumb|300px|A view of the Seattle waterfront\n",
      "\n",
      "# Tourist information\n",
      "The Seattle Convention and Visitors Bureau operates two visitors centers. Both offer maps, brochures, event details, tour bookings, and restaurant reservations:\n",
      "\n"
     ]
    }
   ],
   "source": [
    "from travel import stringify_nested_sections\n",
    "\n",
    "print(stringify_nested_sections(parsed_sections['Understand']))"
   ]
  },
  {
   "cell_type": "code",
   "execution_count": 100,
   "metadata": {},
   "outputs": [
    {
     "name": "stdout",
     "output_type": "stream",
     "text": [
      "\u001b[34mPROMPT You are a CITO agent. You'll be given some contextual information, some instructions for this step, and some input data.\n",
      "\n",
      "### Instructions ###\n",
      "\n",
      "Summarize the information in the context. Be specific and avoid cliches.\n",
      "\n",
      "### Relevant Context ###\n",
      "\n",
      "\n",
      "# History\n",
      "The first humans are believed to have entered the region nearly 4,000 years ago. Englishman George Vancouver mapped the area in the 1790s, but the first white settlers didn't arrive until 1851. Luther Collins led a party of settlers to the mouth of the Duwamish River (in what is today southern Seattle), followed shortly by a party led by the more notable Arthur A. Denny of Chicago, who settled at Alki Point in West Seattle. Confrontations between the original settlers initially flared, only to die out as the groups settled together on the Elliott Bay. The area was then named Seattle by David Maynard, in honor of Chief Si'ahl of the Duwamish & Suquamish tribes, and later officially established as a city in 1869.\n",
      "\n",
      "By the 1880s, development of a modern city came to life with the erection of buildings, a streetcar system, and a lumber mill at the end of a timber skid row (what is now Yesler Way), only to be destroyed by fire in 1889. The city came alive again in 1903 with the Klondike Gold Rush, when Seattle served as the departure city for miners bound for Alaska and the Yukon. During this boom time, hills were flattened for development and the Lake Washington Ship Canal was created.\n",
      "\n",
      "The city's economy slowed down again during the Great Depression and World War II, but experienced a renewed fervor with the establishment of the aircraft company Boeing and the occurrence of the 1962 World's Fair, which opened the gates for modernization of the city. Heavy dependence on Boeing took an economic toll on the city during the 1970s oil crisis, but Microsoft's move from Albuquerque to the Seattle area further promoted the economic vitality of Seattle. Soon, Amazon, Nintendo of America, T-Mobile, Starbucks, and numerous biotech companies also established their headquarters there, bringing an influx of population growth and money into the area. Today, the Seattle metropolitan area's wealth and its four million inhabitants (more than half of the population of Washington State) make it the economic powerhouse of the Pacific Northwest and a city of huge importance for the entire United States.\n",
      "\n",
      "# Culture\n",
      "Multiculturalism is seen as a virtue. White people make up about 70% of the population, while more than a tenth of Seattlelites are of Asian descent. English is spoken virtually everywhere in the city but there are ethnic areas in South Seattle where Vietnamese and Tagalog are also commonly spoken, as well as Chinese and Japanese in the International District. The ZIP code 98118 in South Seattle designates one of the most ethnically diverse areas in the entire United States!\n",
      "\n",
      "Being a very politically left-wing part of the country, Seattle has one of the most sprawling LGBT communities in the US, second only to San Francisco. While the vast majority of Seattle businesses are LGBT-friendly, the Capitol Hill area, east of downtown, is the main place for LGBT-focused business and bars, as well as a resource center. A large PrideFest takes place annually at the Seattle Center, along with preceding events such as a Pride Parade. The city is also home to a number of other annual Pride events, including the Seattle Dyke March and Capitol Hill Pride.\n",
      "\n",
      "Locals have long talked of the Seattle Freeze, referring to the cold politeness of residents. The theory is that while they are very polite and warm on first interaction, they are actually reserved, and interactions rarely lead to real acts of friendship (an invitation to dinner, personal conversations, etc.). The origin is obscure, but it is mostly assumed to be from Scandinavian immigrants that brought their home country's customs here, including this equivalent to introversion. Expect to have to make all the \"first moves\" to meet people here.\n",
      "\n",
      "Residents' shyness also extends to anger and annoyance. Locals often make fun of themselves for their passive aggressive culture, where even in the most upsetting circumstances they will retain their polite nature.\n",
      "\n",
      "# Climate\n",
      "A common stereotype of Seattle is that the sky is always grey, rainy, and depressing. But it may surprise you that rain is virtually absent in late spring through early fall, making Seattle an excellent place to spend summer. It's warm and comfortable, with little to moderate humidity and temperatures averaging in the upper 70s (about 25°C), though sometimes rising to the 80s and even 90s (above 30°C). Furthermore, because of Seattle's high latitude, the sky is bright from around 4:30AM to 10PM during the summer months, giving you ample daylight for outdoor activities.\n",
      "\n",
      "During all other seasons, the sky above Seattle is often murky, grim, rainy and breezy, with occasional days of sun. It can be dry but cold, or mild but rainy. Even in the case of dry weather, the morning typically starts with fog that usually vanishes by midday. Despite its location as the northernmost big city in the U.S., winters in Seattle are not as harsh as those east of the Cascades. Marine air from the Puget Sound and the Pacific Ocean moderate Seattle's climate, so that most precipitation falls as rain and little as snow. However, on occasion a snowstorm will hit, though it's a fairly rare event. The area consists of complex topographical features; thus it can be raining in the city itself but sunny five miles north or snowing in heaps fifteen miles inland to the Cascade foothills, often puzzling weather forecasters.\n",
      "\n",
      "Despite the Rain City reputation, the main challenge of Seattle's weather is more the overcast skies than the rain, and in fact Seattle has less annual rainfall than most cities east of the Rocky Mountains. Seattle's rain usually comes in a drizzle that lingers for days, which only occasionally strengthens to a full-blown torrent that rarely lasts long. Many residents call this period of overcast, the season of grey as it lasts from late October to early March every year.\n",
      "\n",
      "# Read\n",
      "E.L. James' phenomenally popular erotic novel Fifty Shades of Grey, as well as its sequels (Fifty Shades Darker and Fifty Shades Freed), are set in the Seattle area.\n",
      "The Twilight saga is set in the Forks area of the Olympic Peninsula, but the third installment, Eclipse, is set primarily in a Seattle plagued by murderous vampires.\n",
      "The Art of Racing in the Rain, by Garth Stein, is a New York Times bestseller about a race car driver told from the perspective of his dog, Enzo.\n",
      "\n",
      "# Watch\n",
      "As might be expected, nearly all movies and TV shows set in Seattle feature at least an establishing shot of the Space Needle.\n",
      " Many people will still remember the sitcom Frasier, which ran for 11 seasons until 2004. The Cheers spin-off followed the life of the Crane family: Frasier Crane, a radio psychiatrist, his brother Niles, his father Martin, and his assistant, Daphne Moon. Although most of the show was actually filmed in studios in Los Angeles, the 100th episode was shot for real on the streets of Seattle, the monorail, and the Seattle Center.\n",
      " The medical drama Grey's Anatomy is set in Seattle to distinguish it from its counterpart, Chicago's ER. Fisher Plaza, home to the ABC-affiliated KOMO radio and television station and right across the street from the Space Needle, serves as the exterior of the fictional Grey-Sloan Memorial Hospital.\n",
      " It Happened at the World's Fair (Norman Taurog, 1963). Elvis Presley stars as Mike, a cropduster pilot who hitchhikes with his friend Danny (Gary Lockwood) into Seattle during the 1962 World's Fair, where he meets his love interest, played by Joan O'Brien.\n",
      " The Parallax View (Alan J. Pakula, 1974). Released at the height of the political paranoia of the 70s, this film follows an investigative reporter (played by Warren Beatty) who discovers a secretive corporation that recruits political assassins. There's a lot of excellent Seattle imagery in this film, and the movie is well-remembered for its opening assassination scene that takes place atop the Space Needle.\n",
      " Singles (Cameron Crowe, 1992). A romantic comedy about two young couples experiencing rocky love while living in a Seattle apartment block. The film was particularly noted for its grunge soundtrack, coming on the heels of Seattle's grunge music boom. The central coffee shop in the film is at the now-closed OK Hotel in Pioneer Square, and the apartment used in the movie is at the northwest corner of E. Thomas St & 19th Ave E.\n",
      " Sleepless In Seattle (Nora Ephron, 1993). Tom Hanks plays Sam Baldwin, a widower father searching for comfort in Seattle after the loss of his wife. After his young son, Jonah, calls a radio station for help, a woman (Meg Ryan) develops an attraction to Sam. Sam Baldwin's houseboat is set on Lake Union, which is worth a visit for fans of the movie.\n",
      "\n",
      "# Music\n",
      "Although Seattle may be more well-known for grunge, it has had a long, diverse and tolerant music history from early on, including a politically radical American folk scene in the 1920s to a thriving post-war jazz scene that boomed in many clubs throughout the area.\n",
      "\n",
      "Grunge was heavily influenced by the counterculture music scene that dominated Seattle from the mid-1970s through the 1980s, with such noted acts as a gay glam theater group called Ze Whiz Kids and bands like The Telepaths, The Beakers, and Red Dress (the last of which is still active as of 2023). Seattle also has another musical claim to fame in native son Jimi Hendrix, although he found his success in England; nevertheless, this hasn't stopped Seattle from erecting a statue of him in Capitol Hill and devoting an entire section to Hendrix at the Museum of Pop Culture in the Seattle Center.\n",
      "\n",
      "Grunge didn't really emerge until the 1980s and was a combination of punk and metal promoted by such notable Seattle-based groups as Nirvana, Pearl Jam, and Soundgarden. The genre emerged and slowly grew through the mid-1980s before exploding to international fame in 1991 with the release of Nirvana's breakthrough album Nevermind, but its prominence came to an end after singer Kurt Cobain's shocking suicide in 1994.\n",
      "\n",
      "Local favorite radio station KEXP is a great source for alternative and experimental music and has helped launch the careers of not only grunge bands like Nirvana but local hip hop favorites such as Macklemore, Ryan Lewis, and the Blue Scholars, as well as many other nationally known alternative bands such as Sunny Day Real Estate, Modest Mouse, The Postal Service, Death Cab for Cutie, Band of Horses, The Head and the Heart and Fleet Foxes.\n",
      "\n",
      "thumb|300px|A view of the Seattle waterfront\n",
      "\n",
      "# Tourist information\n",
      "The Seattle Convention and Visitors Bureau operates two visitors centers. Both offer maps, brochures, event details, tour bookings, and restaurant reservations:\n",
      "\n",
      "\n",
      "### Response Format ###\n",
      "\n",
      "Respond with the following format:\n",
      "\n",
      "# Thought #\n",
      "You should always think about what to do. Work this out in a step by step way to be sure we take the right action. Use the context above to help you make a decision.\n",
      "\n",
      "# Action #\n",
      "The next action to perform when considering the input.\n",
      "\n",
      "Output the name of an action and some arguments. For example: \"ExampleAction(arg='example')\"\n",
      "\n",
      "If you need to output a multi-line string, use the following format:\n",
      "ExampleAction(arg='''example\n",
      "example\n",
      "example''')\n",
      "\n",
      "Do not output any text other than the action and its arguments.\n",
      "For example, DO NOT WRITE: \"Highlight and copy the population number from the article\"\n",
      "Another example, DO NOT WRITE: \"Result: ExampleAction(arg='example')\"\n",
      "\n",
      "If the option has no arguments, you can just write the name of the action. For example: \"ExampleAction\"\n",
      "\n",
      "You MUST pick from one of the following actions:\n",
      "- AnswerDirectly(answer=str) # Choose this option to provide your answer directly.\n",
      "- CannotAnswer(reason=str) # Choose this option if you cannot answer the question. Please explain why.\n",
      "\n",
      "\n",
      "\n",
      "Begin!\n",
      "\n",
      "## Input ##\n",
      "\n",
      "Provide your answer as though it were the introduction to a travel article about Seattle. Highlight a couple of unique characteristics about the city.\u001b[0m\n"
     ]
    }
   ],
   "source": [
    "summary = await summarize(\"Provide your answer as though it were the introduction to a travel article about Seattle. Highlight a couple of unique characteristics about the city.\", context=stringify_nested_sections(parsed_sections['Understand']))"
   ]
  },
  {
   "cell_type": "code",
   "execution_count": 101,
   "metadata": {},
   "outputs": [
    {
     "data": {
      "text/plain": [
       "\"Seattle is a city that prides itself on its multiculturalism and left-wing politics. With a population that is over 10% Asian, Seattle is one of the most ethnically diverse cities in the US. The city is also known for its sprawling LGBT community, with the Capitol Hill area being the main hub for LGBT-focused businesses and bars. Seattle's weather is often overcast and rainy, but the summers are mild and comfortable, making it an excellent place to visit during that time. Seattle's music scene is also unique, with a diverse and tolerant history that includes a thriving post-war jazz scene and the emergence of grunge in the 1980s. These characteristics, along with Seattle's rich history and beautiful waterfront, make it a must-visit destination for travelers.\""
      ]
     },
     "execution_count": 101,
     "metadata": {},
     "output_type": "execute_result"
    }
   ],
   "source": [
    "summary.answer"
   ]
  },
  {
   "cell_type": "code",
   "execution_count": 102,
   "metadata": {},
   "outputs": [],
   "source": [
    "# loosely based on some of the NYT 36 Hours articles I read\n",
    "activity_template = [\n",
    "    {\"day\": \"Friday\", \"time\": \"afternoon\", \"activity\": \"Do|See\"},\n",
    "    {\"day\": \"Friday\", \"time\": \"lunch\", \"activity\": \"Eat\"},\n",
    "    {\"day\": \"Friday\", \"time\": \"night\", \"activity\": \"Drink\"},\n",
    "    {\"day\": \"Saturday\", \"time\": \"morning\", \"activity\": \"Eat+Do\"},\n",
    "    {\"day\": \"Saturday\", \"time\": \"lunch\", \"activity\": \"Eat\"},\n",
    "    {\"day\": \"Saturday\", \"time\": \"early afternoon\", \"activity\": \"See\"},\n",
    "    {\"day\": \"Saturday\", \"time\": \"late afternoon\", \"activity\": \"Do\"},\n",
    "    {\"day\": \"Saturday\", \"time\": \"evening\", \"activity\": \"Eat\"},\n",
    "    {\"day\": \"Saturday\", \"time\": \"night\", \"activity\": \"Do|Drink\"},\n",
    "    {\"day\": \"Sunday\", \"time\": \"early morning\", \"activity\": \"Do\"},\n",
    "    {\"day\": \"Sunday\", \"time\": \"morning\", \"activity\": \"Eat\"},\n",
    "    {\"day\": \"Sunday\", \"time\": \"lunch\", \"activity\": \"Eat+Buy\"},\n",
    "]"
   ]
  },
  {
   "cell_type": "code",
   "execution_count": 94,
   "metadata": {},
   "outputs": [
    {
     "name": "stdout",
     "output_type": "stream",
     "text": [
      "Region(name='Capitol Hill and Central District', description='The nightlife and retail core of Pike-Pine at the west meets the quiet, diverse residences of Madison Park at the east. This area is also the [[LGBT travel|gay]] capital of Seattle.', wikilink='Seattle/Capitol Hill-Central District')\n",
      "dict_keys(['Understand', 'Get in', 'See', 'Do', 'Buy', 'Eat', 'Drink', 'Sleep', 'Stay safe', 'Connect'])\n"
     ]
    }
   ],
   "source": [
    "# TODO: pick a random Seattle district. then for each of the activity template slots, search within the given activity section for something to do. double check that the thing is open at the right time. guess how long the activity might take and make sure to find a time to go when it will be open.\n",
    "random_region = random.choice(regions)\n",
    "\n",
    "print(random_region)\n",
    "\n",
    "district_sections = query_wiki_voyage(random_region.wikilink)\n",
    "\n",
    "parsed_district_sections, district_regions = parse_sections(district_sections)\n",
    "parsed_district_sections = parsed_district_sections['']['children']\n",
    "\n",
    "print(parsed_district_sections.keys())"
   ]
  },
  {
   "cell_type": "code",
   "execution_count": 29,
   "metadata": {},
   "outputs": [
    {
     "data": {
      "text/plain": [
       "Region(name='Queen Anne and South Lake Union', description=\"Perched on the hills northwest of Downtown, here you will find wealthy neighborhoods peppered with panoramic parks. On the area's south is the newly developed commercial center of South Lake Union (home of the rapidly growing Amazon headquarters), and the '''Seattle Center''' with its Space Needle.\")"
      ]
     },
     "execution_count": 29,
     "metadata": {},
     "output_type": "execute_result"
    }
   ],
   "source": [
    "random_region"
   ]
  },
  {
   "cell_type": "code",
   "execution_count": 1,
   "metadata": {},
   "outputs": [],
   "source": [
    "import requests\n",
    "import urllib.parse"
   ]
  },
  {
   "cell_type": "code",
   "execution_count": 2,
   "metadata": {},
   "outputs": [],
   "source": [
    "def get_place_id(api_key, restaurant_name, restaurant_address):\n",
    "    # Encode the parameters\n",
    "    encoded_restaurant_name = urllib.parse.quote(restaurant_name)\n",
    "    encoded_restaurant_address = urllib.parse.quote(restaurant_address)\n",
    "    \n",
    "    # Prepare the API request URL\n",
    "    url = f\"https://maps.googleapis.com/maps/api/place/findplacefromtext/json?input={encoded_restaurant_name}%20{encoded_restaurant_address}&inputtype=textquery&fields=place_id&key={api_key}\"\n",
    "    \n",
    "    # Send the request to the API\n",
    "    response = requests.get(url)\n",
    "    \n",
    "    # If the request was successful, extract the place ID\n",
    "    if response.status_code == 200:\n",
    "        data = response.json()\n",
    "        \n",
    "        if data['status'] == 'OK':\n",
    "            place_id = data['candidates'][0]['place_id']\n",
    "            return place_id\n",
    "        else:\n",
    "            print(f\"Request failed with status: {data['status']}\")\n",
    "    else:\n",
    "        print(f\"HTTP request failed with status code: {response.status_code}\")"
   ]
  },
  {
   "cell_type": "code",
   "execution_count": 3,
   "metadata": {},
   "outputs": [
    {
     "ename": "KeyError",
     "evalue": "'GOOGLE_MAPS_API_KEY'",
     "output_type": "error",
     "traceback": [
      "\u001b[0;31m---------------------------------------------------------------------------\u001b[0m",
      "\u001b[0;31mKeyError\u001b[0m                                  Traceback (most recent call last)",
      "Cell \u001b[0;32mIn[3], line 2\u001b[0m\n\u001b[1;32m      1\u001b[0m \u001b[39mimport\u001b[39;00m \u001b[39mos\u001b[39;00m\n\u001b[0;32m----> 2\u001b[0m api_key \u001b[39m=\u001b[39m os\u001b[39m.\u001b[39;49menviron[\u001b[39m'\u001b[39;49m\u001b[39mGOOGLE_MAPS_API_KEY\u001b[39;49m\u001b[39m'\u001b[39;49m]\n\u001b[1;32m      3\u001b[0m restaurant_name \u001b[39m=\u001b[39m \u001b[39m\"\u001b[39m\u001b[39mYOUR_RESTAURANT_NAME\u001b[39m\u001b[39m\"\u001b[39m\n\u001b[1;32m      4\u001b[0m restaurant_address \u001b[39m=\u001b[39m \u001b[39m\"\u001b[39m\u001b[39mYOUR_RESTAURANT_ADDRESS\u001b[39m\u001b[39m\"\u001b[39m\n",
      "File \u001b[0;32m~/miniforge3/lib/python3.9/os.py:679\u001b[0m, in \u001b[0;36m_Environ.__getitem__\u001b[0;34m(self, key)\u001b[0m\n\u001b[1;32m    676\u001b[0m     value \u001b[39m=\u001b[39m \u001b[39mself\u001b[39m\u001b[39m.\u001b[39m_data[\u001b[39mself\u001b[39m\u001b[39m.\u001b[39mencodekey(key)]\n\u001b[1;32m    677\u001b[0m \u001b[39mexcept\u001b[39;00m \u001b[39mKeyError\u001b[39;00m:\n\u001b[1;32m    678\u001b[0m     \u001b[39m# raise KeyError with the original key value\u001b[39;00m\n\u001b[0;32m--> 679\u001b[0m     \u001b[39mraise\u001b[39;00m \u001b[39mKeyError\u001b[39;00m(key) \u001b[39mfrom\u001b[39;00m \u001b[39mNone\u001b[39m\n\u001b[1;32m    680\u001b[0m \u001b[39mreturn\u001b[39;00m \u001b[39mself\u001b[39m\u001b[39m.\u001b[39mdecodevalue(value)\n",
      "\u001b[0;31mKeyError\u001b[0m: 'GOOGLE_MAPS_API_KEY'"
     ]
    }
   ],
   "source": [
    "import os\n",
    "api_key = os.environ['GOOGLE_MAPS_API_KEY']\n",
    "restaurant_name = \"YOUR_RESTAURANT_NAME\"\n",
    "restaurant_address = \"YOUR_RESTAURANT_ADDRESS\"\n",
    "place_id = get_place_id(api_key, restaurant_name, restaurant_address)\n",
    "print(f\"The place ID is: {place_id}\")"
   ]
  },
  {
   "cell_type": "code",
   "execution_count": null,
   "metadata": {},
   "outputs": [],
   "source": []
  }
 ],
 "metadata": {
  "kernelspec": {
   "display_name": "base",
   "language": "python",
   "name": "python3"
  },
  "language_info": {
   "codemirror_mode": {
    "name": "ipython",
    "version": 3
   },
   "file_extension": ".py",
   "mimetype": "text/x-python",
   "name": "python",
   "nbconvert_exporter": "python",
   "pygments_lexer": "ipython3",
   "version": "3.9.10"
  },
  "orig_nbformat": 4
 },
 "nbformat": 4,
 "nbformat_minor": 2
}
